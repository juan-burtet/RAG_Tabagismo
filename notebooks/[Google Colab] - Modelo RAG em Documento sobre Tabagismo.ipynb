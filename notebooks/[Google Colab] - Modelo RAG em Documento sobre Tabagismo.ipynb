{
 "cells": [
  {
   "cell_type": "markdown",
   "metadata": {
    "id": "oX9g1rVMBcv4"
   },
   "source": [
    "# [Google Colab] - Modelo RAG em Documento sobre Tabagismo\n",
    "\n",
    "Notebook usado para desenvolvimento de aplicação que utiliza a técnica de Retrieval Augmented Generation (RAG) através dos dados médicos de protocolo de tratamento do tabagismo.\n",
    "\n",
    "**Este Notebook foi utilizado dentro do Google Colab, caso for utilizado localmente algumas mudanças devem ser necessárias.**"
   ]
  },
  {
   "cell_type": "markdown",
   "metadata": {
    "id": "7oFOPGjhCBhV"
   },
   "source": [
    "## 1 - Leitura dos Dados\n",
    "\n",
    "A primeira etapa para o desenvolvimento é a leitura dos dados do PDF."
   ]
  },
  {
   "cell_type": "code",
   "execution_count": null,
   "metadata": {
    "colab": {
     "base_uri": "https://localhost:8080/"
    },
    "id": "Q_rIKcSTuOIG",
    "outputId": "2e60a825-abff-41ca-9494-f0840e501945"
   },
   "outputs": [],
   "source": [
    "# Instalação de bibliotecas necessárias para o funcionamento do notebook\n",
    "! pip install unstructured[pdf] pytesseract langchain langchain_community fastembed chromadb\n",
    "! apt install tesseract-ocr\n",
    "! apt install tesseract-ocr-por\n",
    "! apt install libtesseract-dev\n",
    "! apt-get install poppler-utils"
   ]
  },
  {
   "cell_type": "markdown",
   "metadata": {
    "id": "YraIfFRoxaoh"
   },
   "source": [
    "Download do PDF através do Link do site do INCA.\n"
   ]
  },
  {
   "cell_type": "code",
   "execution_count": null,
   "metadata": {
    "id": "Xe-aUN0mw1H6"
   },
   "outputs": [],
   "source": [
    "import requests\n",
    "\n",
    "FILENAME = 'protocolo-clinico-e-diretrizes-terapeuticas-do-tabagismo.pdf'\n",
    "\n",
    "url = 'https://www.inca.gov.br/sites/ufu.sti.inca.local/files//media/document//'\n",
    "response = requests.get(url + FILENAME, stream=True)\n",
    "\n",
    "with open(FILENAME, 'wb') as f:\n",
    "    f.write(response.content)"
   ]
  },
  {
   "cell_type": "markdown",
   "metadata": {
    "id": "L151hqsADLil"
   },
   "source": [
    "Leitura do PDF utilizando o tesseract-ocr. Esta biblioteca utiliza modelos de IA para fazer a leitura do PDF e conseguir agrupar as informações mais corretamente, diferenciando os tipos de dados encontrados, como texto, tabelas, etc."
   ]
  },
  {
   "cell_type": "code",
   "execution_count": null,
   "metadata": {
    "id": "mQFEbU0kuq6s"
   },
   "outputs": [],
   "source": [
    "from unstructured.partition.pdf import partition_pdf\n",
    "import pytesseract\n",
    "\n",
    "result_pdf = partition_pdf(filename=FILENAME, infer_table_structure=True,\n",
    "                           strategy=\"hi_res\", chunking_strategy=\"by_title\",\n",
    "                           languages=[\"por\"])"
   ]
  },
  {
   "cell_type": "markdown",
   "metadata": {
    "id": "J_pdsjp5iMZO"
   },
   "source": [
    "Importação dos dados do PDF para json, caso queira já usar os dados extraidos sem ter que fazer a leitura através do tesseract."
   ]
  },
  {
   "cell_type": "code",
   "execution_count": null,
   "metadata": {
    "id": "z4b-TAvy0_oK"
   },
   "outputs": [],
   "source": [
    "import json\n",
    "\n",
    "pdf_to_text = {}\n",
    "pdf_to_text['text'] = [str(r) for r in result_pdf]\n",
    "with open('pdf_to_text.json', 'w', encoding='utf-8') as f:\n",
    "    json.dump(pdf_to_text, f, ensure_ascii=False, indent=4)"
   ]
  },
  {
   "cell_type": "markdown",
   "metadata": {
    "id": "vfbUiPtEHfcQ"
   },
   "source": [
    "Tipos de dados utilizados pelo modelo Llama."
   ]
  },
  {
   "cell_type": "code",
   "execution_count": null,
   "metadata": {
    "colab": {
     "base_uri": "https://localhost:8080/",
     "height": 49,
     "referenced_widgets": [
      "4535a57bfae54bbd86dd999e2478fa61",
      "309ff4ed05734b1dab02c54f2e382152",
      "8173f317524f411a8dbd6a7278d16434",
      "a5177a9e0f6c47d4930e8088cab6db0d",
      "6fd0e576ebca48beb71783117efd7ba7",
      "7387ddc535f345cd80634c4bf554bd4f",
      "40ecd27e901e46b3aa484122f3337bf7",
      "d1b00ef5a24b444fbb249994650f9dda",
      "927d33f20edb47dfb201b2d6555e1608",
      "aa32f73d658e4ae79b9a8da2c6893068",
      "44750b0e70524734a07f215572d1ebbc"
     ]
    },
    "id": "50O2Ilqn35eu",
    "outputId": "1a5ed7e5-a9a7-439b-ebae-aaf0996d3154"
   },
   "outputs": [],
   "source": [
    "from langchain.storage import InMemoryStore\n",
    "from langchain_community.embeddings.fastembed import FastEmbedEmbeddings\n",
    "from langchain_community.vectorstores import Chroma\n",
    "from langchain.retrievers.multi_vector import MultiVectorRetriever\n",
    "\n",
    "# InMemoryStore é área de armazenamento que manterá os documentos\n",
    "docstore = InMemoryStore()\n",
    "id_key = \"tabagismo_id\"\n",
    "\n",
    "# Embedding (https://github.com/qdrant/fastembed/)\n",
    "embedding = FastEmbedEmbeddings()\n",
    "\n",
    "# Banco chroma que irá manter os vetores de informação\n",
    "vectorstore = Chroma(collection_name=\"summaries11\",\n",
    "                     embedding_function=embedding)\n",
    "\n",
    "# Definição do MultiVectorRetriever que irá organizar os\n",
    "# dados do chroma e as informações dos documentos\n",
    "retriever = MultiVectorRetriever(vectorstore=vectorstore,\n",
    "                                 docstore=docstore,\n",
    "                                 id_key=id_key)"
   ]
  },
  {
   "cell_type": "markdown",
   "metadata": {
    "id": "7jGz1OsUHs4a"
   },
   "source": [
    "Informação retirada do PDF sendo adicionada na formatação a ser utilizada pelo modelo de RAG."
   ]
  },
  {
   "cell_type": "code",
   "execution_count": null,
   "metadata": {
    "id": "mu1BnqexLcDn"
   },
   "outputs": [],
   "source": [
    "from langchain_core.documents import Document\n",
    "from unstructured.documents.elements import CompositeElement, Table, TableChunk\n",
    "\n",
    "# Cria duas listas contendo:\n",
    "# 1 - IDs dos documentos\n",
    "# 2 - Documento no formato para a LLM, contendo a informação em formato str\n",
    "docs_id, docs = [], []\n",
    "for i, info in enumerate(result_pdf):\n",
    "    docs_id += [str(i)]\n",
    "    docs += [Document(page_content=str(info), metadata={id_key: str(i)})]\n",
    "\n",
    "# Adiciona os documentos no MultiVectorRetriever que será utilizado\n",
    "# para inserir os dados de contexto\n",
    "retriever.vectorstore.add_documents(docs)\n",
    "retriever.docstore.mset(list(zip(docs_id, docs)))"
   ]
  },
  {
   "cell_type": "markdown",
   "metadata": {
    "id": "XAhGws8Za55h"
   },
   "source": [
    "## 2 - Inicialização do Modelo llama3\n",
    "\n",
    "Com os dados disponíveis e organizados de forma que o modelo possa ser utilizado, agora é necessário inicializar o modelo dentro do Colab para testar seu funcionamento."
   ]
  },
  {
   "cell_type": "markdown",
   "metadata": {
    "id": "eoQSKF-LH0af"
   },
   "source": [
    "Modelo llama3 utilizando o Prompt com as regras a serem seguidas."
   ]
  },
  {
   "cell_type": "code",
   "execution_count": null,
   "metadata": {
    "id": "Z97ByueJ9C3B"
   },
   "outputs": [],
   "source": [
    "from langchain_core.prompts import ChatPromptTemplate\n",
    "from langchain_community.llms import Ollama\n",
    "from langchain_core.runnables import RunnablePassthrough\n",
    "from langchain_core.output_parsers import StrOutputParser\n",
    "\n",
    "template = \"\"\"\n",
    "Context: Você é um assistente especialista no Protocolo Clínico e diretrizes Terapeuticas do Tabagismo.\\\n",
    "Os dados que você tem disponível se trata de um documento disponibilizado pelo INCA (Instituto Nacional do Câncer).\\\n",
    "Todo questionamento respondido deve utilizar como base os dados passados no texto abaixo, caso não seja possível\\\n",
    "solucionar a dúvida, informe que não possuí informações disponíveis. Aqui está o texto disponível: \\\n",
    "{context}\n",
    "Question: {question}\n",
    "\"\"\"\n",
    "\n",
    "prompt = ChatPromptTemplate.from_template(template)\n",
    "model = Ollama(model=\"llama3\")\n",
    "\n",
    "chain = ({\"context\": retriever, \"question\": RunnablePassthrough()}\n",
    "         | prompt | model | StrOutputParser())"
   ]
  },
  {
   "cell_type": "markdown",
   "metadata": {
    "id": "kRzRqaK4yOFc"
   },
   "source": [
    "Para conseguir rodar o modelo do llama3, é preciso \"criar\" um terminal dentro do colab para deixar o serviço rodando. Para isso, é preciso inicializar a célula abaixo e adicionar as seguintes linhas quando o terminal estiver disponível:\n",
    "\n",
    "```\n",
    "curl -fsSL https://ollama.com/install.sh | sh\n",
    "ollama pull llama3 & ollama serve\n",
    "```\n",
    "\n"
   ]
  },
  {
   "cell_type": "code",
   "execution_count": null,
   "metadata": {
    "colab": {
     "base_uri": "https://localhost:8080/",
     "height": 933
    },
    "id": "NCrBoNHGQi9s",
    "outputId": "14d13cf4-4782-492c-e4a0-d0c43361ff27"
   },
   "outputs": [],
   "source": [
    "!pip install colab-xterm\n",
    "%load_ext colabxterm\n",
    "%xterm"
   ]
  },
  {
   "cell_type": "markdown",
   "metadata": {
    "id": "_zIzxO9ig6iX"
   },
   "source": [
    "Espere o modelo terminar de ser baixado e inicializar antes de seguir nas próximas células. Caso não tenha inicializado ainda, irá ocorrer um erro. Então, apenas espere finalizar e o resto funcionará corretamente."
   ]
  },
  {
   "cell_type": "markdown",
   "metadata": {
    "id": "SwlsccdibYm5"
   },
   "source": [
    "## 3 - Questione o modelo!\n",
    "\n",
    "Com o modelo treinado e funcionando, podemos inicializar seu questionamento. Abaixo temos algumas perguntas já criadas para ver o seu funcionamento. Além disso, na última célula você pode alterar para criar as suas próprias perguntas! Divirta-se!"
   ]
  },
  {
   "cell_type": "code",
   "execution_count": null,
   "metadata": {
    "id": "tKJjM1mgLuH5"
   },
   "outputs": [],
   "source": [
    "# Método que recebe a pergunta, faz para o modelo e retorna sua resposta.\n",
    "def ask_question(question):\n",
    "    answer = chain.invoke(question)\n",
    "    print(answer)"
   ]
  },
  {
   "cell_type": "code",
   "execution_count": null,
   "metadata": {
    "colab": {
     "base_uri": "https://localhost:8080/",
     "height": 338
    },
    "id": "vIIDNcs3LEV8",
    "outputId": "82091499-2df6-435c-eff6-78ddb6a9a4ec"
   },
   "outputs": [],
   "source": [
    "QUESTION = 'Fumar é muito prejudicial para o ser humano?'\n",
    "\n",
    "ask_question(QUESTION)"
   ]
  },
  {
   "cell_type": "code",
   "execution_count": null,
   "metadata": {
    "id": "R0oHqvyUB2EX"
   },
   "outputs": [],
   "source": [
    "QUESTION = 'Como saber se estou dependente da nicotina? Existe alguma forma de avaliar o grau de depêndencia da pessoa?'\n",
    "\n",
    "ask_question(QUESTION)"
   ]
  },
  {
   "cell_type": "code",
   "execution_count": null,
   "metadata": {
    "id": "OtHfrem3YEss"
   },
   "outputs": [],
   "source": [
    "QUESTION = 'Quais os medicamentos indicados para tentar parar de fumar?'\n",
    "\n",
    "ask_question(QUESTION)"
   ]
  },
  {
   "cell_type": "code",
   "execution_count": null,
   "metadata": {
    "id": "AhmPTVPCNgVj"
   },
   "outputs": [],
   "source": [
    "QUESTION = 'Você poderia me dizer algo sobre a empresa A3Data?'\n",
    "\n",
    "ask_question(QUESTION)"
   ]
  },
  {
   "cell_type": "code",
   "execution_count": null,
   "metadata": {
    "id": "OHR46ho5NlTk"
   },
   "outputs": [],
   "source": [
    "QUESTION = 'INSIRA SUA PERGUNTA'\n",
    "\n",
    "ask_question(QUESTION)"
   ]
  }
 ],
 "metadata": {
  "accelerator": "GPU",
  "colab": {
   "gpuType": "T4",
   "provenance": []
  },
  "kernelspec": {
   "display_name": "Python 3 (ipykernel)",
   "language": "python",
   "name": "python3"
  },
  "language_info": {
   "codemirror_mode": {
    "name": "ipython",
    "version": 3
   },
   "file_extension": ".py",
   "mimetype": "text/x-python",
   "name": "python",
   "nbconvert_exporter": "python",
   "pygments_lexer": "ipython3",
   "version": "3.11.7"
  },
  "widgets": {
   "application/vnd.jupyter.widget-state+json": {
    "309ff4ed05734b1dab02c54f2e382152": {
     "model_module": "@jupyter-widgets/controls",
     "model_module_version": "1.5.0",
     "model_name": "HTMLModel",
     "state": {
      "_dom_classes": [],
      "_model_module": "@jupyter-widgets/controls",
      "_model_module_version": "1.5.0",
      "_model_name": "HTMLModel",
      "_view_count": null,
      "_view_module": "@jupyter-widgets/controls",
      "_view_module_version": "1.5.0",
      "_view_name": "HTMLView",
      "description": "",
      "description_tooltip": null,
      "layout": "IPY_MODEL_7387ddc535f345cd80634c4bf554bd4f",
      "placeholder": "​",
      "style": "IPY_MODEL_40ecd27e901e46b3aa484122f3337bf7",
      "value": "Fetching 5 files: 100%"
     }
    },
    "40ecd27e901e46b3aa484122f3337bf7": {
     "model_module": "@jupyter-widgets/controls",
     "model_module_version": "1.5.0",
     "model_name": "DescriptionStyleModel",
     "state": {
      "_model_module": "@jupyter-widgets/controls",
      "_model_module_version": "1.5.0",
      "_model_name": "DescriptionStyleModel",
      "_view_count": null,
      "_view_module": "@jupyter-widgets/base",
      "_view_module_version": "1.2.0",
      "_view_name": "StyleView",
      "description_width": ""
     }
    },
    "44750b0e70524734a07f215572d1ebbc": {
     "model_module": "@jupyter-widgets/controls",
     "model_module_version": "1.5.0",
     "model_name": "DescriptionStyleModel",
     "state": {
      "_model_module": "@jupyter-widgets/controls",
      "_model_module_version": "1.5.0",
      "_model_name": "DescriptionStyleModel",
      "_view_count": null,
      "_view_module": "@jupyter-widgets/base",
      "_view_module_version": "1.2.0",
      "_view_name": "StyleView",
      "description_width": ""
     }
    },
    "4535a57bfae54bbd86dd999e2478fa61": {
     "model_module": "@jupyter-widgets/controls",
     "model_module_version": "1.5.0",
     "model_name": "HBoxModel",
     "state": {
      "_dom_classes": [],
      "_model_module": "@jupyter-widgets/controls",
      "_model_module_version": "1.5.0",
      "_model_name": "HBoxModel",
      "_view_count": null,
      "_view_module": "@jupyter-widgets/controls",
      "_view_module_version": "1.5.0",
      "_view_name": "HBoxView",
      "box_style": "",
      "children": [
       "IPY_MODEL_309ff4ed05734b1dab02c54f2e382152",
       "IPY_MODEL_8173f317524f411a8dbd6a7278d16434",
       "IPY_MODEL_a5177a9e0f6c47d4930e8088cab6db0d"
      ],
      "layout": "IPY_MODEL_6fd0e576ebca48beb71783117efd7ba7"
     }
    },
    "6fd0e576ebca48beb71783117efd7ba7": {
     "model_module": "@jupyter-widgets/base",
     "model_module_version": "1.2.0",
     "model_name": "LayoutModel",
     "state": {
      "_model_module": "@jupyter-widgets/base",
      "_model_module_version": "1.2.0",
      "_model_name": "LayoutModel",
      "_view_count": null,
      "_view_module": "@jupyter-widgets/base",
      "_view_module_version": "1.2.0",
      "_view_name": "LayoutView",
      "align_content": null,
      "align_items": null,
      "align_self": null,
      "border": null,
      "bottom": null,
      "display": null,
      "flex": null,
      "flex_flow": null,
      "grid_area": null,
      "grid_auto_columns": null,
      "grid_auto_flow": null,
      "grid_auto_rows": null,
      "grid_column": null,
      "grid_gap": null,
      "grid_row": null,
      "grid_template_areas": null,
      "grid_template_columns": null,
      "grid_template_rows": null,
      "height": null,
      "justify_content": null,
      "justify_items": null,
      "left": null,
      "margin": null,
      "max_height": null,
      "max_width": null,
      "min_height": null,
      "min_width": null,
      "object_fit": null,
      "object_position": null,
      "order": null,
      "overflow": null,
      "overflow_x": null,
      "overflow_y": null,
      "padding": null,
      "right": null,
      "top": null,
      "visibility": null,
      "width": null
     }
    },
    "7387ddc535f345cd80634c4bf554bd4f": {
     "model_module": "@jupyter-widgets/base",
     "model_module_version": "1.2.0",
     "model_name": "LayoutModel",
     "state": {
      "_model_module": "@jupyter-widgets/base",
      "_model_module_version": "1.2.0",
      "_model_name": "LayoutModel",
      "_view_count": null,
      "_view_module": "@jupyter-widgets/base",
      "_view_module_version": "1.2.0",
      "_view_name": "LayoutView",
      "align_content": null,
      "align_items": null,
      "align_self": null,
      "border": null,
      "bottom": null,
      "display": null,
      "flex": null,
      "flex_flow": null,
      "grid_area": null,
      "grid_auto_columns": null,
      "grid_auto_flow": null,
      "grid_auto_rows": null,
      "grid_column": null,
      "grid_gap": null,
      "grid_row": null,
      "grid_template_areas": null,
      "grid_template_columns": null,
      "grid_template_rows": null,
      "height": null,
      "justify_content": null,
      "justify_items": null,
      "left": null,
      "margin": null,
      "max_height": null,
      "max_width": null,
      "min_height": null,
      "min_width": null,
      "object_fit": null,
      "object_position": null,
      "order": null,
      "overflow": null,
      "overflow_x": null,
      "overflow_y": null,
      "padding": null,
      "right": null,
      "top": null,
      "visibility": null,
      "width": null
     }
    },
    "8173f317524f411a8dbd6a7278d16434": {
     "model_module": "@jupyter-widgets/controls",
     "model_module_version": "1.5.0",
     "model_name": "FloatProgressModel",
     "state": {
      "_dom_classes": [],
      "_model_module": "@jupyter-widgets/controls",
      "_model_module_version": "1.5.0",
      "_model_name": "FloatProgressModel",
      "_view_count": null,
      "_view_module": "@jupyter-widgets/controls",
      "_view_module_version": "1.5.0",
      "_view_name": "ProgressView",
      "bar_style": "success",
      "description": "",
      "description_tooltip": null,
      "layout": "IPY_MODEL_d1b00ef5a24b444fbb249994650f9dda",
      "max": 5,
      "min": 0,
      "orientation": "horizontal",
      "style": "IPY_MODEL_927d33f20edb47dfb201b2d6555e1608",
      "value": 5
     }
    },
    "927d33f20edb47dfb201b2d6555e1608": {
     "model_module": "@jupyter-widgets/controls",
     "model_module_version": "1.5.0",
     "model_name": "ProgressStyleModel",
     "state": {
      "_model_module": "@jupyter-widgets/controls",
      "_model_module_version": "1.5.0",
      "_model_name": "ProgressStyleModel",
      "_view_count": null,
      "_view_module": "@jupyter-widgets/base",
      "_view_module_version": "1.2.0",
      "_view_name": "StyleView",
      "bar_color": null,
      "description_width": ""
     }
    },
    "a5177a9e0f6c47d4930e8088cab6db0d": {
     "model_module": "@jupyter-widgets/controls",
     "model_module_version": "1.5.0",
     "model_name": "HTMLModel",
     "state": {
      "_dom_classes": [],
      "_model_module": "@jupyter-widgets/controls",
      "_model_module_version": "1.5.0",
      "_model_name": "HTMLModel",
      "_view_count": null,
      "_view_module": "@jupyter-widgets/controls",
      "_view_module_version": "1.5.0",
      "_view_name": "HTMLView",
      "description": "",
      "description_tooltip": null,
      "layout": "IPY_MODEL_aa32f73d658e4ae79b9a8da2c6893068",
      "placeholder": "​",
      "style": "IPY_MODEL_44750b0e70524734a07f215572d1ebbc",
      "value": " 5/5 [00:00&lt;00:00, 186.97it/s]"
     }
    },
    "aa32f73d658e4ae79b9a8da2c6893068": {
     "model_module": "@jupyter-widgets/base",
     "model_module_version": "1.2.0",
     "model_name": "LayoutModel",
     "state": {
      "_model_module": "@jupyter-widgets/base",
      "_model_module_version": "1.2.0",
      "_model_name": "LayoutModel",
      "_view_count": null,
      "_view_module": "@jupyter-widgets/base",
      "_view_module_version": "1.2.0",
      "_view_name": "LayoutView",
      "align_content": null,
      "align_items": null,
      "align_self": null,
      "border": null,
      "bottom": null,
      "display": null,
      "flex": null,
      "flex_flow": null,
      "grid_area": null,
      "grid_auto_columns": null,
      "grid_auto_flow": null,
      "grid_auto_rows": null,
      "grid_column": null,
      "grid_gap": null,
      "grid_row": null,
      "grid_template_areas": null,
      "grid_template_columns": null,
      "grid_template_rows": null,
      "height": null,
      "justify_content": null,
      "justify_items": null,
      "left": null,
      "margin": null,
      "max_height": null,
      "max_width": null,
      "min_height": null,
      "min_width": null,
      "object_fit": null,
      "object_position": null,
      "order": null,
      "overflow": null,
      "overflow_x": null,
      "overflow_y": null,
      "padding": null,
      "right": null,
      "top": null,
      "visibility": null,
      "width": null
     }
    },
    "d1b00ef5a24b444fbb249994650f9dda": {
     "model_module": "@jupyter-widgets/base",
     "model_module_version": "1.2.0",
     "model_name": "LayoutModel",
     "state": {
      "_model_module": "@jupyter-widgets/base",
      "_model_module_version": "1.2.0",
      "_model_name": "LayoutModel",
      "_view_count": null,
      "_view_module": "@jupyter-widgets/base",
      "_view_module_version": "1.2.0",
      "_view_name": "LayoutView",
      "align_content": null,
      "align_items": null,
      "align_self": null,
      "border": null,
      "bottom": null,
      "display": null,
      "flex": null,
      "flex_flow": null,
      "grid_area": null,
      "grid_auto_columns": null,
      "grid_auto_flow": null,
      "grid_auto_rows": null,
      "grid_column": null,
      "grid_gap": null,
      "grid_row": null,
      "grid_template_areas": null,
      "grid_template_columns": null,
      "grid_template_rows": null,
      "height": null,
      "justify_content": null,
      "justify_items": null,
      "left": null,
      "margin": null,
      "max_height": null,
      "max_width": null,
      "min_height": null,
      "min_width": null,
      "object_fit": null,
      "object_position": null,
      "order": null,
      "overflow": null,
      "overflow_x": null,
      "overflow_y": null,
      "padding": null,
      "right": null,
      "top": null,
      "visibility": null,
      "width": null
     }
    }
   }
  }
 },
 "nbformat": 4,
 "nbformat_minor": 4
}
